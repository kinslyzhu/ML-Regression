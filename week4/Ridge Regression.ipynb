{
 "cells": [
  {
   "cell_type": "code",
   "execution_count": 11,
   "metadata": {
    "collapsed": true
   },
   "outputs": [],
   "source": [
    "import pandas as pd\n",
    "import numpy as np\n",
    "from scipy import stats\n",
    "import statsmodels.api as sm\n",
    "import statsmodels.tsa.stattools as ts\n",
    "import statsmodels.formula.api as smf\n",
    "\n",
    "import matplotlib.pyplot as plt\n",
    "%matplotlib inline"
   ]
  },
  {
   "cell_type": "code",
   "execution_count": 12,
   "metadata": {
    "collapsed": false
   },
   "outputs": [],
   "source": [
    "\n",
    "dtype_dict = {'bathrooms':float, 'waterfront':int, 'sqft_above':int, \\\n",
    "'sqft_living15':float, 'grade':int, 'yr_renovated':int, 'price':float, \\\n",
    "'bedrooms':float, 'zipcode':str, 'long':float, 'sqft_lot15':float, 'sqft_living':float, \\\n",
    "'floors':str, 'condition':int, 'lat':float, 'date':str, 'sqft_basement':int, 'yr_built':int, \\\n",
    "'id':str, 'sqft_lot':int, 'view':int}\n",
    "data_house = pd.read_csv('C://Users//xyzs//Machine Learning//Week 1//kc_house_train_data.csv',dtype = dtype_dict)\n",
    "data_house1 = pd.read_csv('C://Users//xyzs//Machine Learning//Week 1//kc_house_test_data.csv',dtype = dtype_dict)\n",
    "\n",
    "\n",
    "sales = pd.read_csv('kc_house_data.csv', dtype=dtype_dict)\n",
    "sales = sales.sort_values(['sqft_living','price'])\n",
    "\n",
    "def get_residual_sum_of_squares(input_feature, output, intercept,slope):\n",
    "    RSS_R = (output - np.dot(input_feature, slope) - intercept)\n",
    "    RSS_L = np.transpose(RSS_R)\n",
    "    RSS = np.dot(RSS_L,RSS_R)\n",
    "    return(RSS)"
   ]
  },
  {
   "cell_type": "code",
   "execution_count": 13,
   "metadata": {
    "collapsed": true
   },
   "outputs": [],
   "source": [
    "l2_small_penalty = 1.5e-5"
   ]
  },
  {
   "cell_type": "code",
   "execution_count": 14,
   "metadata": {
    "collapsed": true
   },
   "outputs": [],
   "source": [
    "def polynomial_dataframe(feature, degree): # feature is pandas.Series type\n",
    "    # assume that degree >= 1\n",
    "    # initialize the dataframe:\n",
    "    poly_dataframe = pd.DataFrame()\n",
    "    # and set poly_dataframe['power_1'] equal to the passed feature\n",
    "    poly_dataframe['power_1'] = feature\n",
    "    # first check if degree > 1\n",
    "    if degree > 1:\n",
    "        # then loop over the remaining degrees:\n",
    "        for power in range(2, degree+1):\n",
    "            # first we'll give the column a name:\n",
    "            name = 'power_' + str(power)\n",
    "            # assign poly_dataframe[name] to be feature^power; use apply(*)\n",
    "            poly_dataframe[name] = feature.apply(lambda x: x**power)\n",
    "    return poly_dataframe"
   ]
  },
  {
   "cell_type": "code",
   "execution_count": 15,
   "metadata": {
    "collapsed": false
   },
   "outputs": [
    {
     "data": {
      "text/plain": [
       "array([  1.24873306e+02,  -4.77376011e-02,   3.01446238e-05,\n",
       "        -2.44419942e-09,  -1.94153675e-13,   8.54085685e-18,\n",
       "         1.51142121e-21,   8.27979094e-26,   6.52603100e-31,\n",
       "        -3.27895017e-34,  -3.87962315e-38,  -2.72437650e-42,\n",
       "        -1.07790800e-46,   3.78242694e-51,   1.39790296e-54])"
      ]
     },
     "execution_count": 15,
     "metadata": {},
     "output_type": "execute_result"
    }
   ],
   "source": [
    "from sklearn import linear_model\n",
    "import numpy as np\n",
    "\n",
    "poly15_data = polynomial_dataframe(sales['sqft_living'], 15) # use equivalent of `polynomial_sframe`\n",
    "model = linear_model.Ridge(alpha=l2_small_penalty, normalize=True)\n",
    "result = model.fit(poly15_data, sales['price'])\n",
    "result.coef_"
   ]
  },
  {
   "cell_type": "code",
   "execution_count": 16,
   "metadata": {
    "collapsed": true
   },
   "outputs": [],
   "source": [
    "# dtype_dict same as above\n",
    "set_1 = pd.read_csv('wk3_kc_house_set_1_data.csv', dtype=dtype_dict)\n",
    "set_2 = pd.read_csv('wk3_kc_house_set_2_data.csv', dtype=dtype_dict)\n",
    "set_3 = pd.read_csv('wk3_kc_house_set_3_data.csv', dtype=dtype_dict)\n",
    "set_4 = pd.read_csv('wk3_kc_house_set_4_data.csv', dtype=dtype_dict)"
   ]
  },
  {
   "cell_type": "code",
   "execution_count": 17,
   "metadata": {
    "collapsed": false
   },
   "outputs": [
    {
     "name": "stdout",
     "output_type": "stream",
     "text": [
      "2.32806802958\n",
      "2.09756902778\n",
      "2.28906258119\n",
      "2.08596194092\n"
     ]
    }
   ],
   "source": [
    "l2_small_penalty=1e-9\n",
    "l2_large_penalty=1.23e2\n",
    "for i in range(1,5):\n",
    "    set_x = eval('set_' + str(i))\n",
    "    poly15_data = polynomial_dataframe(set_x['sqft_living'], 15) # use equivalent of `polynomial_sframe`\n",
    "    model = linear_model.Ridge(alpha=l2_large_penalty, normalize=True)\n",
    "    result = model.fit(poly15_data, set_x['price'])\n",
    "    print(result.coef_[0])\n",
    "    "
   ]
  },
  {
   "cell_type": "code",
   "execution_count": 18,
   "metadata": {
    "collapsed": false
   },
   "outputs": [],
   "source": [
    "train_valid_shuffled = pd.read_csv('wk3_kc_house_train_valid_shuffled.csv', dtype=dtype_dict)\n",
    "test = pd.read_csv('wk3_kc_house_test_data.csv', dtype=dtype_dict)"
   ]
  },
  {
   "cell_type": "code",
   "execution_count": 19,
   "metadata": {
    "collapsed": false
   },
   "outputs": [
    {
     "name": "stdout",
     "output_type": "stream",
     "text": [
      "0 (0.0, 1938.6)\n",
      "1 (1939.6, 3878.2)\n",
      "2 (3879.2, 5817.8)\n",
      "3 (5818.8, 7757.4)\n",
      "4 (7758.4, 9697.0)\n",
      "5 (9698.0, 11636.6)\n",
      "6 (11637.6, 13576.2)\n",
      "7 (13577.2, 15515.8)\n",
      "8 (15516.8, 17455.4)\n",
      "9 (17456.4, 19395.0)\n"
     ]
    }
   ],
   "source": [
    "n = len(train_valid_shuffled)\n",
    "k = 10 # 10-fold cross-validation\n",
    "\n",
    "for i in range(k):\n",
    "    start = (n*i)/k\n",
    "    end = (n*(i+1))/k-1\n",
    "    print (i, (start, end))"
   ]
  },
  {
   "cell_type": "code",
   "execution_count": 20,
   "metadata": {
    "collapsed": false
   },
   "outputs": [],
   "source": [
    "#train_valid_shuffled[0:10] # select rows 0 to 9\n",
    "#start = (n*i)//10\n",
    "#end = (n*(i+1))//10\n",
    "#train_valid_shuffled[start:end+1]\n"
   ]
  },
  {
   "cell_type": "code",
   "execution_count": 21,
   "metadata": {
    "collapsed": false
   },
   "outputs": [],
   "source": [
    "def k_fold_cross_validation(k, l2_penalty, data, output):\n",
    "    n = len(data)\n",
    "    k = 10 # 10-fold cross-validation\n",
    "    avg_valid_error = 0\n",
    "    for i in range(k):\n",
    "        start = (n*i)//k\n",
    "        end = (n*(i+1))//k-1\n",
    "        data_valid = data[start:end+1]\n",
    "        data_train = data[0:start].append(data[end+1:n])\n",
    "        poly15_data = polynomial_dataframe(data_train['sqft_living'], 15) # use equivalent of `polynomial_sframe`\n",
    "        model = linear_model.Ridge(alpha=l2_penalty, normalize=True)\n",
    "        result = model.fit(poly15_data, data_train['price'])\n",
    "        poly15_valid_data = polynomial_dataframe(data_valid['sqft_living'],15)\n",
    "        avg_valid_error += get_residual_sum_of_squares(poly15_valid_data, data_valid['price'], result.intercept_,result.coef_)\n",
    "    avg_valid_error = avg_valid_error/10\n",
    "    print(result.intercept_)\n",
    "    print(avg_valid_error)\n",
    "    print(l2_penalty)\n",
    "    return avg_valid_error"
   ]
  },
  {
   "cell_type": "code",
   "execution_count": 57,
   "metadata": {
    "collapsed": false,
    "scrolled": true
   },
   "outputs": [
    {
     "name": "stdout",
     "output_type": "stream",
     "text": [
      "537954.868189\n",
      "2.64977361037e+14\n",
      "1000.0\n",
      "1000.0\n",
      "0\n",
      "538612.921296\n",
      "2.65692935858e+14\n",
      "3162.27766017\n",
      "3162.27766017\n",
      "1\n",
      "538821.682334\n",
      "2.65924368957e+14\n",
      "10000.0\n",
      "10000.0\n",
      "2\n",
      "538887.765405\n",
      "2.65998081509e+14\n",
      "31622.7766017\n",
      "31622.7766017\n",
      "3\n",
      "538908.669423\n",
      "2.66021444554e+14\n",
      "100000.0\n",
      "100000.0\n",
      "4\n",
      "538915.280526\n",
      "2.66028837919e+14\n",
      "316227.766017\n",
      "316227.766017\n",
      "5\n",
      "538917.371208\n",
      "2.66031176438e+14\n",
      "1000000.0\n",
      "1000000.0\n",
      "6\n",
      "538918.032346\n",
      "2.66031915997e+14\n",
      "3162277.66017\n",
      "3162277.66017\n",
      "7\n",
      "538918.241417\n",
      "2.66032149871e+14\n",
      "10000000.0\n",
      "10000000.0\n",
      "8\n",
      "538918.307531\n",
      "2.66032223829e+14\n",
      "31622776.6017\n",
      "31622776.6017\n",
      "9\n",
      "538918.328438\n",
      "2.66032247216e+14\n",
      "100000000.0\n",
      "100000000.0\n",
      "10\n",
      "538918.33505\n",
      "2.66032254612e+14\n",
      "316227766.017\n",
      "316227766.017\n",
      "11\n",
      "538918.33714\n",
      "2.66032256951e+14\n",
      "1000000000.0\n",
      "1000000000.0\n",
      "12\n"
     ]
    }
   ],
   "source": [
    "l2_penalty = np.logspace(3, 9, num=13)\n",
    "k = 10\n",
    "data = train_valid_shuffled\n",
    "output = 1\n",
    "for i in range(13):\n",
    "    k_fold_cross_validation(k, l2_penalty[i], data, output)\n",
    "    print(l2_penalty[i])\n",
    "    print(i)"
   ]
  },
  {
   "cell_type": "code",
   "execution_count": 22,
   "metadata": {
    "collapsed": false
   },
   "outputs": [
    {
     "name": "stdout",
     "output_type": "stream",
     "text": [
      "2.83856861224e+14\n"
     ]
    }
   ],
   "source": [
    "l2_penalty = 1000\n",
    "k = 10\n",
    "data = train_valid_shuffled\n",
    "poly15_data = polynomial_dataframe(data['sqft_living'], 15) # use equivalent of `polynomial_sframe`\n",
    "model = linear_model.Ridge(alpha=l2_penalty, normalize=True)\n",
    "result = model.fit(poly15_data, data['price'])\n",
    "poly15_valid_data = polynomial_dataframe(test['sqft_living'],15)\n",
    "avg_valid_error = get_residual_sum_of_squares(poly15_valid_data, test['price'], result.intercept_,result.coef_)\n",
    "print(avg_valid_error)"
   ]
  },
  {
   "cell_type": "markdown",
   "metadata": {},
   "source": [
    "Implementing ridge regression via gradient descent"
   ]
  },
  {
   "cell_type": "code",
   "execution_count": 27,
   "metadata": {
    "collapsed": false
   },
   "outputs": [],
   "source": [
    "data_house = pd.read_csv('kc_house_train_data.csv',dtype = dtype_dict)\n",
    "data_house1 = pd.read_csv('kc_house_test_data.csv',dtype = dtype_dict)\n",
    "sales = pd.read_csv('kc_house_data.csv', dtype = dtype_dict)"
   ]
  },
  {
   "cell_type": "code",
   "execution_count": 53,
   "metadata": {
    "collapsed": false
   },
   "outputs": [
    {
     "name": "stdout",
     "output_type": "stream",
     "text": [
      "-4.55328923356e+13\n",
      "-4.55328923355e+13\n",
      "\n",
      "-18029479492.0\n",
      "-18029479492.0\n"
     ]
    }
   ],
   "source": [
    "sales1 = data_house.copy()\n",
    "sales1['constant'] = 1\n",
    "example_features = np.array(sales1[['constant','sqft_living']])\n",
    "example_output = np.array(sales1['price'])\n",
    "\n",
    "my_weights = np.array([1., 10.])\n",
    "test_predictions = predict_outcome(example_features, my_weights)\n",
    "errors = test_predictions - example_output # prediction errors\n",
    "\n",
    "# next two lines should print the same values\n",
    "print (feature_derivative_ridge(errors, example_features[:,1], my_weights[1], 1, False))\n",
    "print (np.sum(errors*example_features[:,1])*2+20.)\n",
    "print ('')\n",
    "\n",
    "# next two lines should print the same values\n",
    "print (feature_derivative_ridge(errors, example_features[:,0], my_weights[0], 1, True))\n",
    "print (np.sum(errors)*2.)"
   ]
  },
  {
   "cell_type": "code",
   "execution_count": 29,
   "metadata": {
    "collapsed": true
   },
   "outputs": [],
   "source": [
    "def predict_outcome(feature_matrix, weights):\n",
    "    predictions = np.dot(feature_matrix,weights)\n",
    "    return(predictions)\n",
    "\n",
    "def feature_derivative(errors, feature):\n",
    "    derivative = 2*np.dot(np.transpose(feature),errors)\n",
    "    #print(derivative)\n",
    "    return(derivative)"
   ]
  },
  {
   "cell_type": "code",
   "execution_count": 30,
   "metadata": {
    "collapsed": true
   },
   "outputs": [],
   "source": [
    "def feature_derivative_ridge(errors, feature, weight, l2_penalty, feature_is_constant):\n",
    "    if feature_is_constant == True:\n",
    "        derivative = 2*np.dot(np.transpose(feature),errors)\n",
    "    else:\n",
    "        #print(1)\n",
    "        derivative = 2*np.dot(np.transpose(feature),errors) - 2*l2_penalty*weight\n",
    "    return derivative"
   ]
  },
  {
   "cell_type": "code",
   "execution_count": 31,
   "metadata": {
    "collapsed": false
   },
   "outputs": [],
   "source": [
    "def ridge_regression_gradient_descent(feature_matrix, output, initial_weights, step_size, l2_penalty, max_iterations=100):\n",
    "    weights = np.array(initial_weights) # make sure it's a numpy array\n",
    "    iteration = 0\n",
    "    while iteration <= max_iterations:\n",
    "        #while not reached maximum number of iterations:\n",
    "        # compute the predictions using your predict_output() function\n",
    "        predictions = predict_outcome(feature_matrix, weights)\n",
    "        #print(np.shape(predictions))\n",
    "        #print(predictions)\n",
    "        # compute the errors as predictions - output\n",
    "        errors = output - predictions\n",
    "        for i in range(len(weights)): # loop over each weight\n",
    "            # Recall that feature_matrix[:,i] is the feature column associated with weights[i]\n",
    "            if i == 0:\n",
    "                derivative = feature_derivative_ridge(errors,feature_matrix[:,i],weights[i], l2_penalty, True)\n",
    "                #derivative = feature_derivative(errors, feature_matrix[:,i])\n",
    "            # compute the derivative for weight[i].\n",
    "            else:\n",
    "            #(Remember: when i=0, you are computing the derivative of the constant!)\n",
    "                derivative = feature_derivative_ridge(errors,feature_matrix[:,i],weights[i], l2_penalty, False)\n",
    "                #derivative = feature_derivative(errors, feature_matrix[:,i])\n",
    "            # subtract the step size times the derivative from the current weight  \n",
    "            weights[i] = weights[i] + step_size*derivative\n",
    "        iteration += 1\n",
    "        #print(l2_penalty)\n",
    "    return (weights)"
   ]
  },
  {
   "cell_type": "markdown",
   "metadata": {},
   "source": [
    "Implement Ridge Regression"
   ]
  },
  {
   "cell_type": "code",
   "execution_count": 54,
   "metadata": {
    "collapsed": false
   },
   "outputs": [
    {
     "name": "stdout",
     "output_type": "stream",
     "text": [
      "[ -1.63382329e-01   2.63024369e+02]\n",
      "[   9.77704731  124.57217382]\n"
     ]
    }
   ],
   "source": [
    "step_size = 1e-12\n",
    "max_iterations = 1000\n",
    "initial_weights = [0.,0.]\n",
    "simple_weights_0_penalty = 0\n",
    "simple_weights_high_penalty = 1e11\n",
    "feature_matrix = np.array(sales1[['constant','sqft_living']])\n",
    "output = np.array(sales1['price'])\n",
    "\n",
    "weights_0_penalty = ridge_regression_gradient_descent(feature_matrix, output, initial_weights, step_size, simple_weights_0_penalty, max_iterations)\n",
    "weights_high_penalty = ridge_regression_gradient_descent(feature_matrix, output, initial_weights, step_size, simple_weights_high_penalty, max_iterations)\n",
    "print(weights_0_penalty)\n",
    "print(weights_high_penalty)\n",
    "\n"
   ]
  },
  {
   "cell_type": "markdown",
   "metadata": {},
   "source": [
    "Calculate the RSS using test data"
   ]
  },
  {
   "cell_type": "code",
   "execution_count": 51,
   "metadata": {
    "collapsed": false
   },
   "outputs": [
    {
     "data": {
      "text/plain": [
       "2.7572278145244526"
      ]
     },
     "execution_count": 51,
     "metadata": {},
     "output_type": "execute_result"
    }
   ],
   "source": [
    "feature_matrix = np.array(data_house1['sqft_living'])\n",
    "output = np.array(data_house1['price'])\n",
    "get_residual_sum_of_squares(feature_matrix, output, weights_0_penalty[0],weights_0_penalty[1])/1e14\n",
    "#weights_0_penalty\n",
    "#get_residual_sum_of_squares(input_feature, output, intercept,slope)"
   ]
  },
  {
   "cell_type": "markdown",
   "metadata": {},
   "source": [
    "sqft_living, sqft_living15"
   ]
  },
  {
   "cell_type": "code",
   "execution_count": 81,
   "metadata": {
    "collapsed": false
   },
   "outputs": [
    {
     "name": "stdout",
     "output_type": "stream",
     "text": [
      "[  -0.35780714  243.05572642   22.41312485]\n",
      "[  6.74968592  91.48927275  78.43658676]\n"
     ]
    }
   ],
   "source": [
    "model_features = np.array(sales1[['constant','sqft_living', 'sqft_living15']])\n",
    "my_output = np.array(sales1['price'])\n",
    "#(feature_matrix, output) = get_numpy_data(train_data, model_features, my_output)\n",
    "#(test_feature_matrix, test_output) = get_numpy_data(test_data, model_features, my_output)\n",
    "initial_weights = [0.,0.,0.]\n",
    "step_size = 1e-12\n",
    "max_iterations = 1000\n",
    "l2_penalty=1e11\n",
    "##################################################\n",
    "simple_weights_0_penalty = 0\n",
    "simple_weights_high_penalty = 1e11\n",
    "##################################################\n",
    "weights_0_penalty = ridge_regression_gradient_descent(model_features, my_output, initial_weights, step_size, simple_weights_0_penalty, max_iterations)\n",
    "print(weights_0_penalty)\n",
    "weights_high_penalty = ridge_regression_gradient_descent(model_features, my_output, initial_weights, step_size, simple_weights_high_penalty, max_iterations)\n",
    "print(weights_high_penalty)"
   ]
  },
  {
   "cell_type": "markdown",
   "metadata": {},
   "source": [
    "Calculate the RSS using test data"
   ]
  },
  {
   "cell_type": "code",
   "execution_count": 89,
   "metadata": {
    "collapsed": false
   },
   "outputs": [
    {
     "data": {
      "text/plain": [
       "10.523784126261825"
      ]
     },
     "execution_count": 89,
     "metadata": {},
     "output_type": "execute_result"
    }
   ],
   "source": [
    "model_test_feature = data_house1.copy()\n",
    "model_test_feature['constant'] = 1\n",
    "model_test_feature1 =np.array(model_test_feature[['constant','sqft_living','sqft_living15']])\n",
    "my_output = np.array(model_test_feature['price'])\n",
    "\n",
    "model_test_feature_rss = np.array(model_test_feature[['sqft_living','sqft_living15']])\n",
    "weights_high_penalty = ridge_regression_gradient_descent(model_test_feature1, my_output, initial_weights, step_size, simple_weights_high_penalty, max_iterations)\n",
    "get_residual_sum_of_squares(model_test_feature_rss, my_output, weights_high_penalty[0],weights_high_penalty[1:])/1e14\n"
   ]
  },
  {
   "cell_type": "markdown",
   "metadata": {},
   "source": [
    "Check the first house in test data "
   ]
  },
  {
   "cell_type": "code",
   "execution_count": 79,
   "metadata": {
    "collapsed": false
   },
   "outputs": [
    {
     "name": "stdout",
     "output_type": "stream",
     "text": [
      "764978.122324\n",
      "437754.39996\n"
     ]
    }
   ],
   "source": [
    "############################ 0 penalty\n",
    "temp = np.array(data_house1[['sqft_living','sqft_living15']])[1]\n",
    "penalty_0 = np.dot(temp,np.transpose(weights_0_penalty[1:])) + weights_0_penalty[0]\n",
    "print(penalty_0)\n",
    "#data_house1['price'][0]\n",
    "############################ high penalty\n",
    "penalty_high = np.dot(temp,np.transpose(weights_high_penalty[1:])) + weights_high_penalty[0]\n",
    "print(penalty_high)"
   ]
  },
  {
   "cell_type": "code",
   "execution_count": 33,
   "metadata": {
    "collapsed": false
   },
   "outputs": [
    {
     "name": "stdout",
     "output_type": "stream",
     "text": [
      "540088.141761 [  0.00000000e+00   2.80623568e-09]\n"
     ]
    },
    {
     "data": {
      "text/plain": [
       "Ridge(alpha=100000000000.0, copy_X=True, fit_intercept=True, max_iter=None,\n",
       "   normalize=True, random_state=None, solver='auto', tol=0.001)"
      ]
     },
     "execution_count": 33,
     "metadata": {},
     "output_type": "execute_result"
    }
   ],
   "source": [
    "poly15_data = np.array(sales1[['constant','sqft_living']])# use equivalent of `polynomial_sframe`\n",
    "model = linear_model.Ridge(alpha=simple_weights_high_penalty, normalize=True)\n",
    "result = model.fit(poly15_data, np.array(sales1['price']))\n",
    "print(result.intercept_,result.coef_)\n",
    "result"
   ]
  },
  {
   "cell_type": "code",
   "execution_count": 34,
   "metadata": {
    "collapsed": false
   },
   "outputs": [
    {
     "data": {
      "text/plain": [
       "const     -43580.743094\n",
       "power_1      280.623568\n",
       "dtype: float64"
      ]
     },
     "execution_count": 34,
     "metadata": {},
     "output_type": "execute_result"
    }
   ],
   "source": [
    "poly_data = polynomial_dataframe(sales1['sqft_living'], 1)\n",
    "poly_data = sm.add_constant(poly_data)\n",
    "model = sm.OLS(sales1['price'],poly_data)\n",
    "results = model.fit()\n",
    "weights = results.params\n",
    "weights"
   ]
  },
  {
   "cell_type": "code",
   "execution_count": 35,
   "metadata": {
    "collapsed": true
   },
   "outputs": [],
   "source": [
    "def feature_derivative(errors, feature):\n",
    "    derivative = 2*np.dot(np.transpose(feature),errors)\n",
    "    #print(derivative)\n",
    "    return(derivative)\n",
    "def regression_gradient_descent(feature_matrix, output, initial_weights, step_size, tolerance):\n",
    "    converged = False\n",
    "    weights = np.array(initial_weights)\n",
    "    while not converged:\n",
    "        # compute the predictions based on feature_matrix and weights:\n",
    "        predictions = predict_outcome(feature_matrix, weights)\n",
    "        #print('predictions:',predictions)\n",
    "        #print(len(predictions))\n",
    "        # compute the errors as predictions - output:\n",
    "        errors = output - predictions\n",
    "        #print(len(errors))\n",
    "        \n",
    "        gradient_sum_squares = 0 # initialize the gradient\n",
    "        # while not converged, update each weight individually:\n",
    "        for i in range(len(weights)):\n",
    "            # Recall that feature_matrix[:, i] is the feature column associated with weights[i]\n",
    "            # compute the derivative for weight[i]:\n",
    "            #print(i)\n",
    "            #print('error:',errors[i])\n",
    "            #print(feature_matrix[:,i])\n",
    "            derivative = feature_derivative(errors,feature_matrix[:,i])\n",
    "            #print(derivative)\n",
    "            # add the squared derivative to the gradient magnitude\n",
    "            gradient_sum_squares = gradient_sum_squares + derivative**2\n",
    "            # update the weight based on step size and derivative:\n",
    "            weights[i] = weights[i] + step_size*derivative\n",
    "        gradient_magnitude = np.sqrt(gradient_sum_squares)\n",
    "        #print(gradient_magnitude)\n",
    "        if gradient_magnitude < tolerance:\n",
    "            converged = True\n",
    "    return(weights)"
   ]
  },
  {
   "cell_type": "code",
   "execution_count": 36,
   "metadata": {
    "collapsed": false
   },
   "outputs": [
    {
     "name": "stdout",
     "output_type": "stream",
     "text": [
      "[-46999.88187784    281.99922246]\n"
     ]
    }
   ],
   "source": [
    "feature_matrix = np.array(sales1[['constant','sqft_living']])\n",
    "output = np.array(sales1['price'])\n",
    "initial_weights = np.array([-47000., 1.])\n",
    "step_size = 7e-12\n",
    "tolerance = 2.5e7\n",
    "simple_weights = regression_gradient_descent(feature_matrix, output,initial_weights, step_size,tolerance)\n",
    "print(simple_weights)"
   ]
  },
  {
   "cell_type": "code",
   "execution_count": 37,
   "metadata": {
    "collapsed": false
   },
   "outputs": [
    {
     "data": {
      "text/plain": [
       "[<matplotlib.lines.Line2D at 0x20000164ba8>,\n",
       " <matplotlib.lines.Line2D at 0x2000017aa90>]"
      ]
     },
     "execution_count": 37,
     "metadata": {},
     "output_type": "execute_result"
    },
    {
     "data": {
      "image/png": "[encoded data removed]",
      "text/plain": [
       "<matplotlib.figure.Figure at 0x20000255ac8>"
      ]
     },
     "metadata": {},
     "output_type": "display_data"
    }
   ],
   "source": [
    "plt.plot(feature_matrix,output,'k.')\n",
    "plt.plot(feature_matrix,predict_outcome(feature_matrix, weights_0_penalty),'b-')\n",
    "plt.plot(feature_matrix,predict_outcome(feature_matrix, weights_high_penalty),'r-')"
   ]
  },
  {
   "cell_type": "code",
   "execution_count": 40,
   "metadata": {
    "collapsed": false
   },
   "outputs": [
    {
     "ename": "KeyboardInterrupt",
     "evalue": "",
     "output_type": "error",
     "traceback": [
      "\u001b[0;31m---------------------------------------------------------------------------\u001b[0m",
      "\u001b[0;31mKeyboardInterrupt\u001b[0m                         Traceback (most recent call last)",
      "\u001b[0;32m<ipython-input-40-fcbc011fe751>\u001b[0m in \u001b[0;36m<module>\u001b[0;34m()\u001b[0m\n\u001b[1;32m     10\u001b[0m \u001b[0mfeature_matrix\u001b[0m \u001b[0;34m=\u001b[0m \u001b[0mnp\u001b[0m\u001b[0;34m.\u001b[0m\u001b[0marray\u001b[0m\u001b[0;34m(\u001b[0m\u001b[0msales1\u001b[0m\u001b[0;34m[\u001b[0m\u001b[0;34m[\u001b[0m\u001b[0;34m'constant'\u001b[0m\u001b[0;34m,\u001b[0m\u001b[0;34m'sqft_living'\u001b[0m\u001b[0;34m,\u001b[0m\u001b[0;34m'sqft_living15'\u001b[0m\u001b[0;34m]\u001b[0m\u001b[0;34m]\u001b[0m\u001b[0;34m)\u001b[0m\u001b[0;34m\u001b[0m\u001b[0m\n\u001b[1;32m     11\u001b[0m \u001b[0moutput\u001b[0m \u001b[0;34m=\u001b[0m \u001b[0mnp\u001b[0m\u001b[0;34m.\u001b[0m\u001b[0marray\u001b[0m\u001b[0;34m(\u001b[0m\u001b[0msales1\u001b[0m\u001b[0;34m[\u001b[0m\u001b[0;34m'price'\u001b[0m\u001b[0;34m]\u001b[0m\u001b[0;34m)\u001b[0m\u001b[0;34m\u001b[0m\u001b[0m\n\u001b[0;32m---> 12\u001b[0;31m \u001b[0msimple_weights_two\u001b[0m \u001b[0;34m=\u001b[0m \u001b[0mregression_gradient_descent\u001b[0m\u001b[0;34m(\u001b[0m\u001b[0mfeature_matrix\u001b[0m\u001b[0;34m,\u001b[0m \u001b[0moutput\u001b[0m\u001b[0;34m,\u001b[0m\u001b[0minitial_weights\u001b[0m\u001b[0;34m,\u001b[0m \u001b[0mstep_size\u001b[0m\u001b[0;34m,\u001b[0m\u001b[0mtolerance\u001b[0m\u001b[0;34m)\u001b[0m\u001b[0;34m\u001b[0m\u001b[0m\n\u001b[0m",
      "\u001b[0;32m<ipython-input-35-9f1cfd645f0d>\u001b[0m in \u001b[0;36mregression_gradient_descent\u001b[0;34m(feature_matrix, output, initial_weights, step_size, tolerance)\u001b[0m\n\u001b[1;32m     23\u001b[0m             \u001b[0;31m#print('error:',errors[i])\u001b[0m\u001b[0;34m\u001b[0m\u001b[0;34m\u001b[0m\u001b[0m\n\u001b[1;32m     24\u001b[0m             \u001b[0;31m#print(feature_matrix[:,i])\u001b[0m\u001b[0;34m\u001b[0m\u001b[0;34m\u001b[0m\u001b[0m\n\u001b[0;32m---> 25\u001b[0;31m             \u001b[0mderivative\u001b[0m \u001b[0;34m=\u001b[0m \u001b[0mfeature_derivative\u001b[0m\u001b[0;34m(\u001b[0m\u001b[0merrors\u001b[0m\u001b[0;34m,\u001b[0m\u001b[0mfeature_matrix\u001b[0m\u001b[0;34m[\u001b[0m\u001b[0;34m:\u001b[0m\u001b[0;34m,\u001b[0m\u001b[0mi\u001b[0m\u001b[0;34m]\u001b[0m\u001b[0;34m)\u001b[0m\u001b[0;34m\u001b[0m\u001b[0m\n\u001b[0m\u001b[1;32m     26\u001b[0m             \u001b[0;31m#print(derivative)\u001b[0m\u001b[0;34m\u001b[0m\u001b[0;34m\u001b[0m\u001b[0m\n\u001b[1;32m     27\u001b[0m             \u001b[0;31m# add the squared derivative to the gradient magnitude\u001b[0m\u001b[0;34m\u001b[0m\u001b[0;34m\u001b[0m\u001b[0m\n",
      "\u001b[0;32m<ipython-input-35-9f1cfd645f0d>\u001b[0m in \u001b[0;36mfeature_derivative\u001b[0;34m(errors, feature)\u001b[0m\n\u001b[1;32m      1\u001b[0m \u001b[0;32mdef\u001b[0m \u001b[0mfeature_derivative\u001b[0m\u001b[0;34m(\u001b[0m\u001b[0merrors\u001b[0m\u001b[0;34m,\u001b[0m \u001b[0mfeature\u001b[0m\u001b[0;34m)\u001b[0m\u001b[0;34m:\u001b[0m\u001b[0;34m\u001b[0m\u001b[0m\n\u001b[0;32m----> 2\u001b[0;31m     \u001b[0mderivative\u001b[0m \u001b[0;34m=\u001b[0m \u001b[0;36m2\u001b[0m\u001b[0;34m*\u001b[0m\u001b[0mnp\u001b[0m\u001b[0;34m.\u001b[0m\u001b[0mdot\u001b[0m\u001b[0;34m(\u001b[0m\u001b[0mnp\u001b[0m\u001b[0;34m.\u001b[0m\u001b[0mtranspose\u001b[0m\u001b[0;34m(\u001b[0m\u001b[0mfeature\u001b[0m\u001b[0;34m)\u001b[0m\u001b[0;34m,\u001b[0m\u001b[0merrors\u001b[0m\u001b[0;34m)\u001b[0m\u001b[0;34m\u001b[0m\u001b[0m\n\u001b[0m\u001b[1;32m      3\u001b[0m     \u001b[0;31m#print(derivative)\u001b[0m\u001b[0;34m\u001b[0m\u001b[0;34m\u001b[0m\u001b[0m\n\u001b[1;32m      4\u001b[0m     \u001b[0;32mreturn\u001b[0m\u001b[0;34m(\u001b[0m\u001b[0mderivative\u001b[0m\u001b[0;34m)\u001b[0m\u001b[0;34m\u001b[0m\u001b[0m\n\u001b[1;32m      5\u001b[0m \u001b[0;32mdef\u001b[0m \u001b[0mregression_gradient_descent\u001b[0m\u001b[0;34m(\u001b[0m\u001b[0mfeature_matrix\u001b[0m\u001b[0;34m,\u001b[0m \u001b[0moutput\u001b[0m\u001b[0;34m,\u001b[0m \u001b[0minitial_weights\u001b[0m\u001b[0;34m,\u001b[0m \u001b[0mstep_size\u001b[0m\u001b[0;34m,\u001b[0m \u001b[0mtolerance\u001b[0m\u001b[0;34m)\u001b[0m\u001b[0;34m:\u001b[0m\u001b[0;34m\u001b[0m\u001b[0m\n",
      "\u001b[0;31mKeyboardInterrupt\u001b[0m: "
     ]
    }
   ],
   "source": [
    "model_features = sales1[['constant','sqft_living', 'sqft_living15']]\n",
    "my_output =sales1['price']\n",
    "#(feature_matrix, output) = get_numpy_data(train_data, model_features, my_output)\n",
    "#(test_feature_matrix, test_output) = get_numpy_data(test_data, model_features, my_output)\n",
    "step_size = 1e-12\n",
    "max_iterations = 1000\n",
    "initial_weights = [0.,0.,0.]\n",
    "simple_weights_0_penalty = 0\n",
    "simple_weights_high_penalty = 1e11\n",
    "feature_matrix = np.array(sales1[['constant','sqft_living','sqft_living15']])\n",
    "output = np.array(sales1['price'])\n",
    "simple_weights_two = ridge_regression_gradient_descent(feature_matrix, output, initial_weights, step_size, simple_weights_high_penalty, max_iterations)"
   ]
  },
  {
   "cell_type": "markdown",
   "metadata": {},
   "source": [
    "simple_weights_two"
   ]
  }
 ],
 "metadata": {
  "kernelspec": {
   "display_name": "Python 3",
   "language": "python",
   "name": "python3"
  },
  "language_info": {
   "codemirror_mode": {
    "name": "ipython",
    "version": 3
   },
   "file_extension": ".py",
   "mimetype": "text/x-python",
   "name": "python",
   "nbconvert_exporter": "python",
   "pygments_lexer": "ipython3",
   "version": "3.5.1"
  }
 },
 "nbformat": 4,
 "nbformat_minor": 0
}
