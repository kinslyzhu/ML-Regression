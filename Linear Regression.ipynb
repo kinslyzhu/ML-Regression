{
 "cells": [
  {
   "cell_type": "code",
   "execution_count": 2,
   "metadata": {
    "collapsed": true
   },
   "outputs": [],
   "source": [
    "import pandas as pd\n",
    "import numpy as np\n",
    "import matplotlib.pyplot as plt\n",
    "%matplotlib inline\n"
   ]
  },
  {
   "cell_type": "code",
   "execution_count": 4,
   "metadata": {
    "collapsed": false
   },
   "outputs": [],
   "source": [
    "dtype_dict = {'bathrooms':float, 'waterfront':int, 'sqft_above':int, \\\n",
    "'sqft_living15':float, 'grade':int, 'yr_renovated':int, 'price':float, \\\n",
    "'bedrooms':float, 'zipcode':str, 'long':float, 'sqft_lot15':float, 'sqft_living':float, \\\n",
    "'floors':str, 'condition':int, 'lat':float, 'date':str, 'sqft_basement':int, 'yr_built':int, \\\n",
    "'id':str, 'sqft_lot':int, 'view':int}\n",
    "data_house = pd.read_csv('kc_house_train_data.csv',dtype = dtype_dict)\n"
   ]
  },
  {
   "cell_type": "code",
   "execution_count": 5,
   "metadata": {
    "collapsed": false
   },
   "outputs": [],
   "source": [
    "def simple_linear_regression(input_feature, output):\n",
    "    N = len(input_feature)\n",
    "    slope_numerator = (input_feature*output).sum() - (input_feature.sum()) * (output.sum())/N\n",
    "    slope_denominator = (input_feature*input_feature).sum() - input_feature.sum()**2/N\n",
    "    print(slope_numerator)\n",
    "    print(slope_denominator)\n",
    "    slope = slope_numerator/slope_denominator\n",
    "    intercept = (output.sum() - input_feature.sum()*slope)/N\n",
    "    print('slope:',slope,'\\nintercept:',intercept)\n",
    "    return slope, intercept"
   ]
  },
  {
   "cell_type": "code",
   "execution_count": 6,
   "metadata": {
    "collapsed": false
   },
   "outputs": [
    {
     "name": "stdout",
     "output_type": "stream",
     "text": [
      "4163173281351.871\n",
      "14765180927.86142\n",
      "slope: 281.9588396303426 \n",
      "intercept: -47116.07907289412\n"
     ]
    },
    {
     "data": {
      "text/plain": [
       "[<matplotlib.lines.Line2D at 0x2bd05588ef0>]"
      ]
     },
     "execution_count": 6,
     "metadata": {},
     "output_type": "execute_result"
    },
    {
     "data": {
      "image/png": "[encoded data removed]",
      "text/plain": [
       "<matplotlib.figure.Figure at 0x2bd057f7d30>"
      ]
     },
     "metadata": {},
     "output_type": "display_data"
    }
   ],
   "source": [
    "input_feature = data_house['sqft_living']\n",
    "output = data_house['price']\n",
    "\n",
    "sqft_slope, sqft_intercept = simple_linear_regression(input_feature, output)\n",
    "plt.scatter(data_house['sqft_living'], data_house['price'])\n",
    "x = np.linspace(-2000, 16000)\n",
    "plt.plot(x,sqft_slope*x+sqft_intercept)"
   ]
  },
  {
   "cell_type": "code",
   "execution_count": 7,
   "metadata": {
    "collapsed": false
   },
   "outputs": [
    {
     "data": {
      "text/plain": [
       "700074.8459475138"
      ]
     },
     "execution_count": 7,
     "metadata": {},
     "output_type": "execute_result"
    }
   ],
   "source": [
    "def get_regression_predictions(input_feature, intercept, slope):\n",
    "    predicted_output = input_feature*slope+intercept\n",
    "    return(predicted_output)\n",
    "\n",
    "get_regression_predictions(2650,sqft_intercept,sqft_slope)"
   ]
  },
  {
   "cell_type": "code",
   "execution_count": 8,
   "metadata": {
    "collapsed": false
   },
   "outputs": [
    {
     "data": {
      "text/plain": [
       "1.2019183541772855"
      ]
     },
     "execution_count": 8,
     "metadata": {},
     "output_type": "execute_result"
    }
   ],
   "source": [
    "def get_residual_sum_of_squares(input_feature, output, intercept,slope):\n",
    "    RSS = ((output - input_feature*slope - intercept)**2).sum()\n",
    "    return(RSS)\n",
    "\n",
    "get_residual_sum_of_squares(input_feature,output,sqft_intercept,sqft_slope)/1e15\n"
   ]
  },
  {
   "cell_type": "code",
   "execution_count": 9,
   "metadata": {
    "collapsed": false
   },
   "outputs": [
    {
     "data": {
      "text/plain": [
       "3004.396245152276"
      ]
     },
     "execution_count": 9,
     "metadata": {},
     "output_type": "execute_result"
    }
   ],
   "source": [
    "def inverse_regression_predictions(output, intercept, slope):\n",
    "    estimated_input = (output - intercept)/slope\n",
    "    return(estimated_input)\n",
    "\n",
    "inverse_regression_predictions(800000,sqft_intercept,sqft_slope)"
   ]
  },
  {
   "cell_type": "code",
   "execution_count": 55,
   "metadata": {
    "collapsed": false
   },
   "outputs": [
    {
     "data": {
      "text/plain": [
       "Intercept     -47116.079073\n",
       "sqft_living      281.958840\n",
       "dtype: float64"
      ]
     },
     "execution_count": 55,
     "metadata": {},
     "output_type": "execute_result"
    }
   ],
   "source": [
    "from scipy import stats\n",
    "import statsmodels.api as sm\n",
    "import statsmodels.tsa.stattools as ts\n",
    "\n",
    "\n",
    "# this is the standard import if you're using \"formula notation\" (similar to R)\n",
    "import statsmodels.formula.api as smf\n",
    "\n",
    "# create a fitted model in one line\n",
    "\n",
    "\n",
    "data_sqft = pd.DataFrame(data = data_house[['price','sqft_living']])\n",
    "lm = smf.ols(formula='price~ sqft_living', data=data_sqft).fit()\n",
    "lm.params"
   ]
  },
  {
   "cell_type": "code",
   "execution_count": 15,
   "metadata": {
    "collapsed": false
   },
   "outputs": [
    {
     "name": "stdout",
     "output_type": "stream",
     "text": [
      "1822394167.037506\n",
      "14283.322537965956\n",
      "slope: 127588.95293398784 \n",
      "intercept: 109473.17762295963\n"
     ]
    },
    {
     "data": {
      "text/plain": [
       "[<matplotlib.lines.Line2D at 0x2bd05e1db38>]"
      ]
     },
     "execution_count": 15,
     "metadata": {},
     "output_type": "execute_result"
    },
    {
     "data": {
      "image/png": "[encoded data removed]",
      "text/plain": [
       "<matplotlib.figure.Figure at 0x2bd05caeb70>"
      ]
     },
     "metadata": {},
     "output_type": "display_data"
    }
   ],
   "source": [
    "input_feature = data_house['bedrooms']\n",
    "output = data_house['price']\n",
    "bed_slope, bed_intercept = simple_linear_regression(input_feature, output)\n",
    "plt.scatter(data_house['bedrooms'], data_house['price'])\n",
    "x = np.linspace(-2, 12)\n",
    "plt.plot(x,bed_slope*x+bed_intercept)"
   ]
  },
  {
   "cell_type": "code",
   "execution_count": 16,
   "metadata": {
    "collapsed": false
   },
   "outputs": [
    {
     "data": {
      "text/plain": [
       "2.143244498162069"
      ]
     },
     "execution_count": 16,
     "metadata": {},
     "output_type": "execute_result"
    }
   ],
   "source": [
    "get_residual_sum_of_squares(input_feature,output,bed_intercept,bed_slope)/1e15"
   ]
  }
 ],
 "metadata": {
  "kernelspec": {
   "display_name": "Python 3",
   "language": "python",
   "name": "python3"
  },
  "language_info": {
   "codemirror_mode": {
    "name": "ipython",
    "version": 3
   },
   "file_extension": ".py",
   "mimetype": "text/x-python",
   "name": "python",
   "nbconvert_exporter": "python",
   "pygments_lexer": "ipython3",
   "version": "3.5.1"
  }
 },
 "nbformat": 4,
 "nbformat_minor": 0
}
